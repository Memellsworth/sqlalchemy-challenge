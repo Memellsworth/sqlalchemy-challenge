{
 "cells": [
  {
   "cell_type": "code",
   "execution_count": 1,
   "metadata": {},
   "outputs": [],
   "source": [
    "%matplotlib inline\n",
    "from matplotlib import style\n",
    "style.use('fivethirtyeight')\n",
    "import matplotlib.pyplot as plt"
   ]
  },
  {
   "cell_type": "code",
   "execution_count": 2,
   "metadata": {},
   "outputs": [],
   "source": [
    "import numpy as np\n",
    "import pandas as pd\n",
    "import datetime as dt"
   ]
  },
  {
   "cell_type": "markdown",
   "metadata": {},
   "source": [
    "# Reflect Tables into SQLAlchemy ORM"
   ]
  },
  {
   "cell_type": "code",
   "execution_count": 3,
   "metadata": {},
   "outputs": [],
   "source": [
    "# Python SQL toolkit and Object Relational Mapper\n",
    "import sqlalchemy\n",
    "from sqlalchemy.ext.automap import automap_base\n",
    "from sqlalchemy.orm import Session\n",
    "from sqlalchemy import create_engine, func\n"
   ]
  },
  {
   "cell_type": "code",
   "execution_count": 4,
   "metadata": {},
   "outputs": [],
   "source": [
    "# create engine to hawaii.sqlite\n",
    "engine = create_engine(\"sqlite:///Resources/hawaii.sqlite\")"
   ]
  },
  {
   "cell_type": "code",
   "execution_count": 5,
   "metadata": {},
   "outputs": [],
   "source": [
    "# reflect an existing database into a new model\n",
    "Base = automap_base()\n",
    "# reflect the tables\n",
    "Base.prepare(engine,reflect = True)"
   ]
  },
  {
   "cell_type": "code",
   "execution_count": 6,
   "metadata": {},
   "outputs": [
    {
     "data": {
      "text/plain": [
       "[]"
      ]
     },
     "execution_count": 6,
     "metadata": {},
     "output_type": "execute_result"
    }
   ],
   "source": [
    "# View all of the classes that automap found\n",
    "Base.classes.keys()"
   ]
  },
  {
   "cell_type": "code",
   "execution_count": 7,
   "metadata": {},
   "outputs": [
    {
     "ename": "AttributeError",
     "evalue": "measurement",
     "output_type": "error",
     "traceback": [
      "\u001b[1;31m---------------------------------------------------------------------------\u001b[0m",
      "\u001b[1;31mKeyError\u001b[0m                                  Traceback (most recent call last)",
      "File \u001b[1;32m~\\anaconda\\anaconda3\\envs\\dev\\lib\\site-packages\\sqlalchemy\\util\\_collections.py:186\u001b[0m, in \u001b[0;36mProperties.__getattr__\u001b[1;34m(self, key)\u001b[0m\n\u001b[0;32m    185\u001b[0m \u001b[38;5;28;01mtry\u001b[39;00m:\n\u001b[1;32m--> 186\u001b[0m     \u001b[38;5;28;01mreturn\u001b[39;00m \u001b[38;5;28;43mself\u001b[39;49m\u001b[38;5;241;43m.\u001b[39;49m\u001b[43m_data\u001b[49m\u001b[43m[\u001b[49m\u001b[43mkey\u001b[49m\u001b[43m]\u001b[49m\n\u001b[0;32m    187\u001b[0m \u001b[38;5;28;01mexcept\u001b[39;00m \u001b[38;5;167;01mKeyError\u001b[39;00m:\n",
      "\u001b[1;31mKeyError\u001b[0m: 'measurement'",
      "\nDuring handling of the above exception, another exception occurred:\n",
      "\u001b[1;31mAttributeError\u001b[0m                            Traceback (most recent call last)",
      "Cell \u001b[1;32mIn[7], line 2\u001b[0m\n\u001b[0;32m      1\u001b[0m \u001b[38;5;66;03m# Save references to each table\u001b[39;00m\n\u001b[1;32m----> 2\u001b[0m Measurement \u001b[38;5;241m=\u001b[39m \u001b[43mBase\u001b[49m\u001b[38;5;241;43m.\u001b[39;49m\u001b[43mclasses\u001b[49m\u001b[38;5;241;43m.\u001b[39;49m\u001b[43mmeasurement\u001b[49m\n\u001b[0;32m      3\u001b[0m Station \u001b[38;5;241m=\u001b[39m Base\u001b[38;5;241m.\u001b[39mclasses\u001b[38;5;241m.\u001b[39mstation\n",
      "File \u001b[1;32m~\\anaconda\\anaconda3\\envs\\dev\\lib\\site-packages\\sqlalchemy\\util\\_collections.py:188\u001b[0m, in \u001b[0;36mProperties.__getattr__\u001b[1;34m(self, key)\u001b[0m\n\u001b[0;32m    186\u001b[0m     \u001b[38;5;28;01mreturn\u001b[39;00m \u001b[38;5;28mself\u001b[39m\u001b[38;5;241m.\u001b[39m_data[key]\n\u001b[0;32m    187\u001b[0m \u001b[38;5;28;01mexcept\u001b[39;00m \u001b[38;5;167;01mKeyError\u001b[39;00m:\n\u001b[1;32m--> 188\u001b[0m     \u001b[38;5;28;01mraise\u001b[39;00m \u001b[38;5;167;01mAttributeError\u001b[39;00m(key)\n",
      "\u001b[1;31mAttributeError\u001b[0m: measurement"
     ]
    }
   ],
   "source": [
    "# Save references to each table\n",
    "Measurement = Base.classes.measurement\n",
    "Station = Base.classes.station"
   ]
  },
  {
   "cell_type": "code",
   "execution_count": 9,
   "metadata": {},
   "outputs": [],
   "source": [
    "# Create our session (link) from Python to the DB\n",
    "session = Session(engine)"
   ]
  },
  {
   "cell_type": "code",
   "execution_count": 109,
   "metadata": {},
   "outputs": [],
   "source": [
    "from sqlalchemy import inspect\n",
    "inspector = inspect(engine)"
   ]
  },
  {
   "cell_type": "code",
   "execution_count": 110,
   "metadata": {},
   "outputs": [
    {
     "name": "stdout",
     "output_type": "stream",
     "text": [
      "id INTEGER\n",
      "station TEXT\n",
      "date TEXT\n",
      "prcp FLOAT\n",
      "tobs FLOAT\n"
     ]
    }
   ],
   "source": [
    "#find the columns of measurement \n",
    "\n",
    "measurement_cols = inspector.get_columns('measurement')\n",
    "for column in measurement_cols:\n",
    "    print(column[\"name\"],column[\"type\"])"
   ]
  },
  {
   "cell_type": "code",
   "execution_count": 111,
   "metadata": {},
   "outputs": [
    {
     "name": "stdout",
     "output_type": "stream",
     "text": [
      "id INTEGER\n",
      "station TEXT\n",
      "name TEXT\n",
      "latitude FLOAT\n",
      "longitude FLOAT\n",
      "elevation FLOAT\n"
     ]
    }
   ],
   "source": [
    "#find the columns of station Station'\n",
    "station_cols = inspector.get_columns('station')\n",
    "for column in station_cols:\n",
    "    print(column[\"name\"],column[\"type\"])"
   ]
  },
  {
   "cell_type": "markdown",
   "metadata": {},
   "source": [
    "# Exploratory Precipitation Analysis"
   ]
  },
  {
   "cell_type": "code",
   "execution_count": 84,
   "metadata": {},
   "outputs": [
    {
     "data": {
      "text/plain": [
       "('2017-08-23',)"
      ]
     },
     "execution_count": 84,
     "metadata": {},
     "output_type": "execute_result"
    }
   ],
   "source": [
    "#import # Find the most recent date in the data set.\n",
    "most_recent = session.query(Measurement.date).order_by(Measurement.date.desc()).first()\n",
    "most_recent"
   ]
  },
  {
   "cell_type": "code",
   "execution_count": null,
   "metadata": {},
   "outputs": [],
   "source": []
  },
  {
   "cell_type": "code",
   "execution_count": 105,
   "metadata": {},
   "outputs": [
    {
     "data": {
      "text/plain": [
       "Text(0, 0.5, 'Inches')"
      ]
     },
     "execution_count": 105,
     "metadata": {},
     "output_type": "execute_result"
    },
    {
     "data": {
      "image/png": "[encoded data removed]",
      "text/plain": [
       "<Figure size 640x480 with 1 Axes>"
      ]
     },
     "metadata": {},
     "output_type": "display_data"
    }
   ],
   "source": [
    "# Design a query to retrieve the last 12 months of precipitation data and plot the results. \n",
    "# Starting from the most recent data point in the database. \n",
    "\n",
    "# Calculate the date one year from the last date in data set.\n",
    "last_year = dt.date(2017,8,23)-dt.timedelta(days=365)\n",
    "\n",
    "# Perform a query to retrieve the data and precipitation scores\n",
    "columns = (Measurement.date,Measurement.prcp)\n",
    "prcp_data = session.query(*columns).filter(Measurement.date>= last_year).all()\n",
    "\n",
    "# # Save the query results as a Pandas DataFrame. Explicitly set the column names\n",
    "prcp_score = pd.DataFrame(prcp_data,columns=[\"Date\",\"Percipitation\"]).set_index('Date')\n",
    "# prcp_score = prcp_score.rename(columns ={'prcp':'precipitation'})\n",
    "# Sort the dataframe by date\n",
    "prcp_score = prcp_score.sort_values('Date').dropna()\n",
    "\n",
    "# Use Pandas Plotting with Matplotlib to plot the data\n",
    "prcp_score.plot(rot=90)\n",
    "plt.ylabel(\"Inches\")"
   ]
  },
  {
   "cell_type": "code",
   "execution_count": null,
   "metadata": {},
   "outputs": [],
   "source": [
    "# Design a query to retrieve the last 12 months of precipitation data and plot the results. \n",
    "# Starting from the most recent data point in the database. \n",
    "\n",
    "# Calculate the date one year from the last date in data set.\n",
    "last_year = dt.date(2017,8,23)-dt.timedelta(days=365)\n",
    "\n",
    "# Perform a query to retrieve the data and precipitation scores\n",
    "columns = (Measurement.date,Measurement.prcp)\n",
    "prcp_data = session.query(*columns).filter(Measurement.date>= last_year).all()\n",
    "\n",
    "# # Save the query results as a Pandas DataFrame. Explicitly set the column names\n",
    "prcp_score = pd.DataFrame(prcp_data,columns=[\"Date\",\"Percipitation\"]).set_index('Date')\n",
    "# prcp_score = prcp_score.rename(columns ={'prcp':'precipitation'})\n",
    "# Sort the dataframe by date\n",
    "prcp_score = prcp_score.sort_values('Date').dropna()\n",
    "\n",
    "# Use Pandas Plotting with Matplotlib to plot the data\n",
    "prcp_score.plot(rot=90)\n",
    "plt.ylabel(\"Inches\")"
   ]
  },
  {
   "cell_type": "code",
   "execution_count": 80,
   "metadata": {},
   "outputs": [
    {
     "data": {
      "text/html": [
       "<div>\n",
       "<style scoped>\n",
       "    .dataframe tbody tr th:only-of-type {\n",
       "        vertical-align: middle;\n",
       "    }\n",
       "\n",
       "    .dataframe tbody tr th {\n",
       "        vertical-align: top;\n",
       "    }\n",
       "\n",
       "    .dataframe thead th {\n",
       "        text-align: right;\n",
       "    }\n",
       "</style>\n",
       "<table border=\"1\" class=\"dataframe\">\n",
       "  <thead>\n",
       "    <tr style=\"text-align: right;\">\n",
       "      <th></th>\n",
       "      <th>Percipitation</th>\n",
       "    </tr>\n",
       "  </thead>\n",
       "  <tbody>\n",
       "    <tr>\n",
       "      <th>count</th>\n",
       "      <td>2021.000000</td>\n",
       "    </tr>\n",
       "    <tr>\n",
       "      <th>mean</th>\n",
       "      <td>0.177279</td>\n",
       "    </tr>\n",
       "    <tr>\n",
       "      <th>std</th>\n",
       "      <td>0.461190</td>\n",
       "    </tr>\n",
       "    <tr>\n",
       "      <th>min</th>\n",
       "      <td>0.000000</td>\n",
       "    </tr>\n",
       "    <tr>\n",
       "      <th>25%</th>\n",
       "      <td>0.000000</td>\n",
       "    </tr>\n",
       "    <tr>\n",
       "      <th>50%</th>\n",
       "      <td>0.020000</td>\n",
       "    </tr>\n",
       "    <tr>\n",
       "      <th>75%</th>\n",
       "      <td>0.130000</td>\n",
       "    </tr>\n",
       "    <tr>\n",
       "      <th>max</th>\n",
       "      <td>6.700000</td>\n",
       "    </tr>\n",
       "  </tbody>\n",
       "</table>\n",
       "</div>"
      ],
      "text/plain": [
       "       Percipitation\n",
       "count    2021.000000\n",
       "mean        0.177279\n",
       "std         0.461190\n",
       "min         0.000000\n",
       "25%         0.000000\n",
       "50%         0.020000\n",
       "75%         0.130000\n",
       "max         6.700000"
      ]
     },
     "execution_count": 80,
     "metadata": {},
     "output_type": "execute_result"
    }
   ],
   "source": [
    "# Use Pandas to calculate the summary statistics for the precipitation data\n",
    "prcp_score.describe()"
   ]
  },
  {
   "cell_type": "markdown",
   "metadata": {},
   "source": [
    "# Exploratory Station Analysis"
   ]
  },
  {
   "cell_type": "code",
   "execution_count": 12,
   "metadata": {},
   "outputs": [
    {
     "data": {
      "text/plain": [
       "[(9,)]"
      ]
     },
     "execution_count": 12,
     "metadata": {},
     "output_type": "execute_result"
    }
   ],
   "source": [
    "# Design a query to calculate the total number of stations in the dataset\n",
    "session.query()\n",
    "session.query(func.count(Station.station)).all()"
   ]
  },
  {
   "cell_type": "code",
   "execution_count": 13,
   "metadata": {},
   "outputs": [
    {
     "data": {
      "text/plain": [
       "[('USC00519281', 2772),\n",
       " ('USC00519397', 2724),\n",
       " ('USC00513117', 2709),\n",
       " ('USC00519523', 2669),\n",
       " ('USC00516128', 2612),\n",
       " ('USC00514830', 2202),\n",
       " ('USC00511918', 1979),\n",
       " ('USC00517948', 1372),\n",
       " ('USC00518838', 511)]"
      ]
     },
     "execution_count": 13,
     "metadata": {},
     "output_type": "execute_result"
    }
   ],
   "source": [
    "# Design a query to find the most active stations (i.e. which stations have the most rows?)\n",
    "# List the stations and their counts in descending order.\n",
    "most_active = session.query(Measurement.station,func.count(Measurement.station)).group_by(Measurement.station).desc.all()"
   ]
  },
  {
   "cell_type": "code",
   "execution_count": 99,
   "metadata": {},
   "outputs": [
    {
     "ename": "ArgumentError",
     "evalue": "Method <bound method ColumnOperators.desc of <sqlalchemy.sql.functions.count at 0x1915c9894b0; count>> may not be passed as a SQL expression",
     "output_type": "error",
     "traceback": [
      "\u001b[1;31m---------------------------------------------------------------------------\u001b[0m",
      "\u001b[1;31mArgumentError\u001b[0m                             Traceback (most recent call last)",
      "Cell \u001b[1;32mIn[99], line 2\u001b[0m\n\u001b[0;32m      1\u001b[0m most_active \u001b[39m=\u001b[39m session\u001b[39m.\u001b[39;49mquery(Measurement\u001b[39m.\u001b[39;49mstation,func\u001b[39m.\u001b[39;49mcount(Measurement\u001b[39m.\u001b[39;49mstation))\u001b[39m.\u001b[39;49m\\\n\u001b[1;32m----> 2\u001b[0m group_by(Measurement\u001b[39m.\u001b[39;49mstation)\u001b[39m.\u001b[39;49morder_by(func\u001b[39m.\u001b[39;49mcount(Measurement\u001b[39m.\u001b[39;49mstation)\u001b[39m.\u001b[39;49mdesc)\u001b[39m.\u001b[39mall()\n",
      "File \u001b[1;32m<string>:2\u001b[0m, in \u001b[0;36morder_by\u001b[1;34m(self, *clauses)\u001b[0m\n",
      "File \u001b[1;32mc:\\Users\\memel\\anaconda\\anaconda3\\envs\\dev\\lib\\site-packages\\sqlalchemy\\sql\\base.py:110\u001b[0m, in \u001b[0;36m_generative.<locals>._generative\u001b[1;34m(fn, self, *args, **kw)\u001b[0m\n\u001b[0;32m    107\u001b[0m \u001b[39m\"\"\"Mark a method as generative.\"\"\"\u001b[39;00m\n\u001b[0;32m    109\u001b[0m \u001b[39mself\u001b[39m \u001b[39m=\u001b[39m \u001b[39mself\u001b[39m\u001b[39m.\u001b[39m_generate()\n\u001b[1;32m--> 110\u001b[0m x \u001b[39m=\u001b[39m fn(\u001b[39mself\u001b[39m, \u001b[39m*\u001b[39margs, \u001b[39m*\u001b[39m\u001b[39m*\u001b[39mkw)\n\u001b[0;32m    111\u001b[0m \u001b[39massert\u001b[39;00m x \u001b[39mis\u001b[39;00m \u001b[39mNone\u001b[39;00m, \u001b[39m\"\u001b[39m\u001b[39mgenerative methods must have no return value\u001b[39m\u001b[39m\"\u001b[39m\n\u001b[0;32m    112\u001b[0m \u001b[39mreturn\u001b[39;00m \u001b[39mself\u001b[39m\n",
      "File \u001b[1;32m<string>:2\u001b[0m, in \u001b[0;36morder_by\u001b[1;34m(self, *clauses)\u001b[0m\n",
      "File \u001b[1;32mc:\\Users\\memel\\anaconda\\anaconda3\\envs\\dev\\lib\\site-packages\\sqlalchemy\\orm\\base.py:230\u001b[0m, in \u001b[0;36m_assertions.<locals>.generate\u001b[1;34m(fn, *args, **kw)\u001b[0m\n\u001b[0;32m    228\u001b[0m \u001b[39mfor\u001b[39;00m assertion \u001b[39min\u001b[39;00m assertions:\n\u001b[0;32m    229\u001b[0m     assertion(\u001b[39mself\u001b[39m, fn\u001b[39m.\u001b[39m\u001b[39m__name__\u001b[39m)\n\u001b[1;32m--> 230\u001b[0m fn(\u001b[39mself\u001b[39m, \u001b[39m*\u001b[39margs[\u001b[39m1\u001b[39m:], \u001b[39m*\u001b[39m\u001b[39m*\u001b[39mkw)\n",
      "File \u001b[1;32mc:\\Users\\memel\\anaconda\\anaconda3\\envs\\dev\\lib\\site-packages\\sqlalchemy\\orm\\query.py:1839\u001b[0m, in \u001b[0;36mQuery.order_by\u001b[1;34m(self, *clauses)\u001b[0m\n\u001b[0;32m   1837\u001b[0m     \u001b[39mself\u001b[39m\u001b[39m.\u001b[39m_order_by_clauses \u001b[39m=\u001b[39m ()\n\u001b[0;32m   1838\u001b[0m \u001b[39melse\u001b[39;00m:\n\u001b[1;32m-> 1839\u001b[0m     criterion \u001b[39m=\u001b[39m \u001b[39mtuple\u001b[39;49m(\n\u001b[0;32m   1840\u001b[0m         coercions\u001b[39m.\u001b[39;49mexpect(roles\u001b[39m.\u001b[39;49mOrderByRole, clause)\n\u001b[0;32m   1841\u001b[0m         \u001b[39mfor\u001b[39;49;00m clause \u001b[39min\u001b[39;49;00m clauses\n\u001b[0;32m   1842\u001b[0m     )\n\u001b[0;32m   1843\u001b[0m     \u001b[39m# legacy vvvvvvvvvvvvvvvvvvvvvvvvvvv\u001b[39;00m\n\u001b[0;32m   1844\u001b[0m     \u001b[39mif\u001b[39;00m \u001b[39mself\u001b[39m\u001b[39m.\u001b[39m_aliased_generation:\n",
      "File \u001b[1;32mc:\\Users\\memel\\anaconda\\anaconda3\\envs\\dev\\lib\\site-packages\\sqlalchemy\\orm\\query.py:1840\u001b[0m, in \u001b[0;36m<genexpr>\u001b[1;34m(.0)\u001b[0m\n\u001b[0;32m   1837\u001b[0m     \u001b[39mself\u001b[39m\u001b[39m.\u001b[39m_order_by_clauses \u001b[39m=\u001b[39m ()\n\u001b[0;32m   1838\u001b[0m \u001b[39melse\u001b[39;00m:\n\u001b[0;32m   1839\u001b[0m     criterion \u001b[39m=\u001b[39m \u001b[39mtuple\u001b[39m(\n\u001b[1;32m-> 1840\u001b[0m         coercions\u001b[39m.\u001b[39;49mexpect(roles\u001b[39m.\u001b[39;49mOrderByRole, clause)\n\u001b[0;32m   1841\u001b[0m         \u001b[39mfor\u001b[39;00m clause \u001b[39min\u001b[39;00m clauses\n\u001b[0;32m   1842\u001b[0m     )\n\u001b[0;32m   1843\u001b[0m     \u001b[39m# legacy vvvvvvvvvvvvvvvvvvvvvvvvvvv\u001b[39;00m\n\u001b[0;32m   1844\u001b[0m     \u001b[39mif\u001b[39;00m \u001b[39mself\u001b[39m\u001b[39m.\u001b[39m_aliased_generation:\n",
      "File \u001b[1;32mc:\\Users\\memel\\anaconda\\anaconda3\\envs\\dev\\lib\\site-packages\\sqlalchemy\\sql\\coercions.py:129\u001b[0m, in \u001b[0;36mexpect\u001b[1;34m(role, element, apply_propagate_attrs, argname, post_inspect, **kw)\u001b[0m\n\u001b[0;32m    112\u001b[0m \u001b[39mdef\u001b[39;00m \u001b[39mexpect\u001b[39m(\n\u001b[0;32m    113\u001b[0m     role,\n\u001b[0;32m    114\u001b[0m     element,\n\u001b[1;32m   (...)\u001b[0m\n\u001b[0;32m    118\u001b[0m     \u001b[39m*\u001b[39m\u001b[39m*\u001b[39mkw\n\u001b[0;32m    119\u001b[0m ):\n\u001b[0;32m    120\u001b[0m     \u001b[39mif\u001b[39;00m (\n\u001b[0;32m    121\u001b[0m         role\u001b[39m.\u001b[39mallows_lambda\n\u001b[0;32m    122\u001b[0m         \u001b[39m# note callable() will not invoke a __getattr__() method, whereas\u001b[39;00m\n\u001b[1;32m   (...)\u001b[0m\n\u001b[0;32m    127\u001b[0m         \u001b[39mand\u001b[39;00m \u001b[39mhasattr\u001b[39m(element, \u001b[39m\"\u001b[39m\u001b[39m__code__\u001b[39m\u001b[39m\"\u001b[39m)\n\u001b[0;32m    128\u001b[0m     ):\n\u001b[1;32m--> 129\u001b[0m         \u001b[39mreturn\u001b[39;00m lambdas\u001b[39m.\u001b[39;49mLambdaElement(\n\u001b[0;32m    130\u001b[0m             element,\n\u001b[0;32m    131\u001b[0m             role,\n\u001b[0;32m    132\u001b[0m             lambdas\u001b[39m.\u001b[39;49mLambdaOptions(\u001b[39m*\u001b[39;49m\u001b[39m*\u001b[39;49mkw),\n\u001b[0;32m    133\u001b[0m             apply_propagate_attrs\u001b[39m=\u001b[39;49mapply_propagate_attrs,\n\u001b[0;32m    134\u001b[0m         )\n\u001b[0;32m    136\u001b[0m     \u001b[39m# major case is that we are given a ClauseElement already, skip more\u001b[39;00m\n\u001b[0;32m    137\u001b[0m     \u001b[39m# elaborate logic up front if possible\u001b[39;00m\n\u001b[0;32m    138\u001b[0m     impl \u001b[39m=\u001b[39m _impl_lookup[role]\n",
      "File \u001b[1;32mc:\\Users\\memel\\anaconda\\anaconda3\\envs\\dev\\lib\\site-packages\\sqlalchemy\\sql\\lambdas.py:163\u001b[0m, in \u001b[0;36mLambdaElement.__init__\u001b[1;34m(self, fn, role, opts, apply_propagate_attrs)\u001b[0m\n\u001b[0;32m    160\u001b[0m \u001b[39mif\u001b[39;00m apply_propagate_attrs \u001b[39mis\u001b[39;00m \u001b[39mNone\u001b[39;00m \u001b[39mand\u001b[39;00m (role \u001b[39mis\u001b[39;00m roles\u001b[39m.\u001b[39mStatementRole):\n\u001b[0;32m    161\u001b[0m     apply_propagate_attrs \u001b[39m=\u001b[39m \u001b[39mself\u001b[39m\n\u001b[1;32m--> 163\u001b[0m rec \u001b[39m=\u001b[39m \u001b[39mself\u001b[39;49m\u001b[39m.\u001b[39;49m_retrieve_tracker_rec(fn, apply_propagate_attrs, opts)\n\u001b[0;32m    165\u001b[0m \u001b[39mif\u001b[39;00m apply_propagate_attrs \u001b[39mis\u001b[39;00m \u001b[39mnot\u001b[39;00m \u001b[39mNone\u001b[39;00m:\n\u001b[0;32m    166\u001b[0m     propagate_attrs \u001b[39m=\u001b[39m rec\u001b[39m.\u001b[39mpropagate_attrs\n",
      "File \u001b[1;32mc:\\Users\\memel\\anaconda\\anaconda3\\envs\\dev\\lib\\site-packages\\sqlalchemy\\sql\\lambdas.py:179\u001b[0m, in \u001b[0;36mLambdaElement._retrieve_tracker_rec\u001b[1;34m(self, fn, apply_propagate_attrs, opts)\u001b[0m\n\u001b[0;32m    177\u001b[0m fn \u001b[39m=\u001b[39m \u001b[39mself\u001b[39m\u001b[39m.\u001b[39mfn\n\u001b[0;32m    178\u001b[0m closure \u001b[39m=\u001b[39m fn\u001b[39m.\u001b[39m\u001b[39m__closure__\u001b[39m\n\u001b[1;32m--> 179\u001b[0m tracker \u001b[39m=\u001b[39m AnalyzedCode\u001b[39m.\u001b[39;49mget(\n\u001b[0;32m    180\u001b[0m     fn,\n\u001b[0;32m    181\u001b[0m     \u001b[39mself\u001b[39;49m,\n\u001b[0;32m    182\u001b[0m     opts,\n\u001b[0;32m    183\u001b[0m )\n\u001b[0;32m    185\u001b[0m \u001b[39mself\u001b[39m\u001b[39m.\u001b[39m_resolved_bindparams \u001b[39m=\u001b[39m bindparams \u001b[39m=\u001b[39m []\n\u001b[0;32m    187\u001b[0m \u001b[39mif\u001b[39;00m \u001b[39mself\u001b[39m\u001b[39m.\u001b[39mparent_lambda \u001b[39mis\u001b[39;00m \u001b[39mnot\u001b[39;00m \u001b[39mNone\u001b[39;00m:\n",
      "File \u001b[1;32mc:\\Users\\memel\\anaconda\\anaconda3\\envs\\dev\\lib\\site-packages\\sqlalchemy\\sql\\lambdas.py:632\u001b[0m, in \u001b[0;36mAnalyzedCode.get\u001b[1;34m(cls, fn, lambda_element, lambda_kw, **kw)\u001b[0m\n\u001b[0;32m    629\u001b[0m \u001b[39mif\u001b[39;00m fn\u001b[39m.\u001b[39m\u001b[39m__code__\u001b[39m \u001b[39min\u001b[39;00m \u001b[39mcls\u001b[39m\u001b[39m.\u001b[39m_fns:\n\u001b[0;32m    630\u001b[0m     \u001b[39mreturn\u001b[39;00m \u001b[39mcls\u001b[39m\u001b[39m.\u001b[39m_fns[fn\u001b[39m.\u001b[39m\u001b[39m__code__\u001b[39m]\n\u001b[1;32m--> 632\u001b[0m \u001b[39mcls\u001b[39m\u001b[39m.\u001b[39m_fns[fn\u001b[39m.\u001b[39m\u001b[39m__code__\u001b[39m] \u001b[39m=\u001b[39m analyzed \u001b[39m=\u001b[39m AnalyzedCode(\n\u001b[0;32m    633\u001b[0m     fn, lambda_element, lambda_kw, \u001b[39m*\u001b[39m\u001b[39m*\u001b[39mkw\n\u001b[0;32m    634\u001b[0m )\n\u001b[0;32m    635\u001b[0m \u001b[39mreturn\u001b[39;00m analyzed\n",
      "File \u001b[1;32mc:\\Users\\memel\\anaconda\\anaconda3\\envs\\dev\\lib\\site-packages\\sqlalchemy\\sql\\lambdas.py:639\u001b[0m, in \u001b[0;36mAnalyzedCode.__init__\u001b[1;34m(self, fn, lambda_element, opts)\u001b[0m\n\u001b[0;32m    637\u001b[0m \u001b[39mdef\u001b[39;00m \u001b[39m__init__\u001b[39m(\u001b[39mself\u001b[39m, fn, lambda_element, opts):\n\u001b[0;32m    638\u001b[0m     \u001b[39mif\u001b[39;00m inspect\u001b[39m.\u001b[39mismethod(fn):\n\u001b[1;32m--> 639\u001b[0m         \u001b[39mraise\u001b[39;00m exc\u001b[39m.\u001b[39mArgumentError(\n\u001b[0;32m    640\u001b[0m             \u001b[39m\"\u001b[39m\u001b[39mMethod \u001b[39m\u001b[39m%s\u001b[39;00m\u001b[39m may not be passed as a SQL expression\u001b[39m\u001b[39m\"\u001b[39m \u001b[39m%\u001b[39m fn\n\u001b[0;32m    641\u001b[0m         )\n\u001b[0;32m    642\u001b[0m     closure \u001b[39m=\u001b[39m fn\u001b[39m.\u001b[39m\u001b[39m__closure__\u001b[39m\n\u001b[0;32m    644\u001b[0m     \u001b[39mself\u001b[39m\u001b[39m.\u001b[39mtrack_bound_values \u001b[39m=\u001b[39m (\n\u001b[0;32m    645\u001b[0m         opts\u001b[39m.\u001b[39mtrack_bound_values \u001b[39mand\u001b[39;00m opts\u001b[39m.\u001b[39mglobal_track_bound_values\n\u001b[0;32m    646\u001b[0m     )\n",
      "\u001b[1;31mArgumentError\u001b[0m: Method <bound method ColumnOperators.desc of <sqlalchemy.sql.functions.count at 0x1915c9894b0; count>> may not be passed as a SQL expression"
     ]
    }
   ],
   "source": [
    "most_active = session.query(Measurement.station,func.count(Measurement.station)).\\\n",
    "group_by(Measurement.station).order_by(func.count(Measurement.station).desc).all()"
   ]
  },
  {
   "cell_type": "code",
   "execution_count": null,
   "metadata": {},
   "outputs": [
    {
     "data": {
      "text/plain": [
       "[(54.0, 85.0, 71.66378066378067)]"
      ]
     },
     "execution_count": 14,
     "metadata": {},
     "output_type": "execute_result"
    }
   ],
   "source": [
    "# Using the most active station id from the previous query, calculate the lowest, highest, and average temperature.\n"
   ]
  },
  {
   "cell_type": "code",
   "execution_count": 15,
   "metadata": {},
   "outputs": [
    {
     "data": {
      "text/plain": [
       "Text(0.5, 4.183333333333314, 'Temperature')"
      ]
     },
     "execution_count": 15,
     "metadata": {},
     "output_type": "execute_result"
    },
    {
     "data": {
      "image/png": "[encoded data removed]",
      "text/plain": [
       "<Figure size 640x480 with 1 Axes>"
      ]
     },
     "metadata": {},
     "output_type": "display_data"
    }
   ],
   "source": [
    "# Using the most active station id\n",
    "# Query the last 12 months of temperature observation data for this station and plot the results as a histogram\n"
   ]
  },
  {
   "cell_type": "markdown",
   "metadata": {},
   "source": [
    "# Close Session"
   ]
  },
  {
   "cell_type": "code",
   "execution_count": 13,
   "metadata": {},
   "outputs": [
    {
     "ename": "NameError",
     "evalue": "name 'session' is not defined",
     "output_type": "error",
     "traceback": [
      "\u001b[1;31m---------------------------------------------------------------------------\u001b[0m",
      "\u001b[1;31mNameError\u001b[0m                                 Traceback (most recent call last)",
      "Cell \u001b[1;32mIn[13], line 2\u001b[0m\n\u001b[0;32m      1\u001b[0m \u001b[38;5;66;03m# Close Session\u001b[39;00m\n\u001b[1;32m----> 2\u001b[0m \u001b[43msession\u001b[49m\u001b[38;5;241m.\u001b[39mclose()\n",
      "\u001b[1;31mNameError\u001b[0m: name 'session' is not defined"
     ]
    }
   ],
   "source": [
    "# Close Session\n",
    "session.close()"
   ]
  },
  {
   "cell_type": "code",
   "execution_count": null,
   "metadata": {},
   "outputs": [],
   "source": []
  }
 ],
 "metadata": {
  "anaconda-cloud": {},
  "kernel_info": {
   "name": "python3"
  },
  "kernelspec": {
   "display_name": "Python 3 (ipykernel)",
   "language": "python",
   "name": "python3"
  },
  "language_info": {
   "codemirror_mode": {
    "name": "ipython",
    "version": 3
   },
   "file_extension": ".py",
   "mimetype": "text/x-python",
   "name": "python",
   "nbconvert_exporter": "python",
   "pygments_lexer": "ipython3",
   "version": "3.10.10"
  },
  "nteract": {
   "version": "0.12.3"
  },
  "varInspector": {
   "cols": {
    "lenName": 16,
    "lenType": 16,
    "lenVar": 40
   },
   "kernels_config": {
    "python": {
     "delete_cmd_postfix": "",
     "delete_cmd_prefix": "del ",
     "library": "var_list.py",
     "varRefreshCmd": "print(var_dic_list())"
    },
    "r": {
     "delete_cmd_postfix": ") ",
     "delete_cmd_prefix": "rm(",
     "library": "var_list.r",
     "varRefreshCmd": "cat(var_dic_list()) "
    }
   },
   "types_to_exclude": [
    "module",
    "function",
    "builtin_function_or_method",
    "instance",
    "_Feature"
   ],
   "window_display": false
  }
 },
 "nbformat": 4,
 "nbformat_minor": 2
}
